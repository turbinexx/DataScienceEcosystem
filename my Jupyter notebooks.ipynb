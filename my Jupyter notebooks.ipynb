{
 "cells": [
  {
   "cell_type": "markdown",
   "id": "1b32e63e",
   "metadata": {},
   "source": [
    "# Data Science Tools and Ecosystem"
   ]
  },
  {
   "cell_type": "markdown",
   "id": "fa4ad807",
   "metadata": {},
   "source": [
    "In this notebook, Data Science Tools and Ecosystem are summarized."
   ]
  },
  {
   "cell_type": "markdown",
   "id": "bc762689",
   "metadata": {},
   "source": [
    "**Objectives:**\n",
    "- List popular languages for Data Science\n",
    "- List commonly used libraries used by Data Scientists\n",
    "- List some Data Science Tools\n",
    "- Evaluation of arithmetic expressions in Python"
   ]
  },
  {
   "cell_type": "markdown",
   "id": "f923a39b",
   "metadata": {},
   "source": [
    "## Some of the more popular languages that Data Scientists use are:\n",
    "\n",
    "1. Python\n",
    "2. R\n",
    "3. SQL\n",
    "4. JavaScript\n",
    "5. C/C++\n",
    "6. Julia"
   ]
  },
  {
   "cell_type": "markdown",
   "id": "0c21fdd4",
   "metadata": {},
   "source": [
    "Some of the commonly used libraries used by Data Scientists include:\n",
    "1. TensorFlow\n",
    "2. NumPy\n",
    "3. SciPy\n",
    "4. Pandas\n",
    "5. Matplotlib\n",
    "6. Keras\n",
    "7. SciKit-Learn\n",
    "8. PyTorch"
   ]
  },
  {
   "cell_type": "markdown",
   "id": "fff65821",
   "metadata": {},
   "source": [
    "|# Data Science Tools|\n",
    "| ------------------ |\n",
    "|RStudio|\n",
    "|Apache Spark|\n",
    "|TensorFlow|"
   ]
  },
  {
   "cell_type": "markdown",
   "id": "df85d939",
   "metadata": {},
   "source": [
    "### Below are a few examples of evaluating arithmetic expressions in Python"
   ]
  },
  {
   "cell_type": "code",
   "execution_count": 7,
   "id": "e5ae9af8",
   "metadata": {},
   "outputs": [
    {
     "data": {
      "text/plain": [
       "17"
      ]
     },
     "execution_count": 7,
     "metadata": {},
     "output_type": "execute_result"
    }
   ],
   "source": [
    "\"This is a simple arithmetic expression to multiply then add integers\"\n",
    "(3*4)+5"
   ]
  },
  {
   "cell_type": "code",
   "execution_count": 8,
   "id": "68d92ca2",
   "metadata": {},
   "outputs": [
    {
     "data": {
      "text/plain": [
       "3.3333333333333335"
      ]
     },
     "execution_count": 8,
     "metadata": {},
     "output_type": "execute_result"
    }
   ],
   "source": [
    "\"This will convert 200 minutes to hours by dividing by 60\"\n",
    "\n",
    "200/60"
   ]
  },
  {
   "cell_type": "markdown",
   "id": "e68419a7",
   "metadata": {},
   "source": [
    "## Author\n",
    "Tim Wallace"
   ]
  }
 ],
 "metadata": {
  "kernelspec": {
   "display_name": "Python 3 (ipykernel)",
   "language": "python",
   "name": "python3"
  },
  "language_info": {
   "codemirror_mode": {
    "name": "ipython",
    "version": 3
   },
   "file_extension": ".py",
   "mimetype": "text/x-python",
   "name": "python",
   "nbconvert_exporter": "python",
   "pygments_lexer": "ipython3",
   "version": "3.9.13"
  }
 },
 "nbformat": 4,
 "nbformat_minor": 5
}
